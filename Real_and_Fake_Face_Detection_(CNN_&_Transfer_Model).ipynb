{
  "cells": [
    {
      "cell_type": "code",
      "execution_count": 1,
      "metadata": {
        "colab": {
          "base_uri": "https://localhost:8080/"
        },
        "id": "-5Sy9Zgt7nMp",
        "outputId": "04c80cba-6395-4ab4-87e1-540d5a26c912"
      },
      "outputs": [
        {
          "output_type": "stream",
          "name": "stdout",
          "text": [
            "Mounted at /content/drive\n"
          ]
        }
      ],
      "source": [
        "from google.colab import drive\n",
        "drive.mount('/content/drive')"
      ]
    },
    {
      "cell_type": "code",
      "execution_count": 2,
      "metadata": {
        "colab": {
          "base_uri": "https://localhost:8080/"
        },
        "id": "ORvpUQSTAGFJ",
        "outputId": "39c520e1-4c9e-46f0-9f06-3195f110f4ed"
      },
      "outputs": [
        {
          "output_type": "stream",
          "name": "stdout",
          "text": [
            "Found 1633 images belonging to 2 classes.\n",
            "Found 408 images belonging to 2 classes.\n"
          ]
        }
      ],
      "source": [
        "import os\n",
        "import numpy as np\n",
        "import pandas as pd\n",
        "import matplotlib.pyplot as plt\n",
        "import cv2\n",
        "from tensorflow.keras.preprocessing.image import ImageDataGenerator\n",
        "\n",
        "# Define paths\n",
        "base_dir = '/content/drive/MyDrive/Real and Fake Face Detection Dataset'\n",
        "real_dir = os.path.join(base_dir, 'Real')\n",
        "fake_dir = os.path.join(base_dir, 'Fake')\n",
        "\n",
        "# ImageDataGenerator for data augmentation and normalization\n",
        "datagen = ImageDataGenerator(rescale=1./255, validation_split=0.2)\n",
        "\n",
        "# Training and validation generators\n",
        "train_generator = datagen.flow_from_directory(\n",
        "    base_dir,\n",
        "    target_size=(150, 150),\n",
        "    batch_size=32,\n",
        "    class_mode='binary',\n",
        "    subset='training'\n",
        ")\n",
        "\n",
        "validation_generator = datagen.flow_from_directory(\n",
        "    base_dir,\n",
        "    target_size=(150, 150),\n",
        "    batch_size=32,\n",
        "    class_mode='binary',\n",
        "    subset='validation'\n",
        ")\n"
      ]
    },
    {
      "cell_type": "code",
      "execution_count": null,
      "metadata": {
        "colab": {
          "base_uri": "https://localhost:8080/"
        },
        "id": "v_rfoEf3AcGQ",
        "outputId": "98343af1-1633-454a-bb13-9a549981aa65"
      },
      "outputs": [
        {
          "output_type": "stream",
          "name": "stdout",
          "text": [
            "Epoch 1/10\n",
            "52/52 [==============================] - 378s 7s/step - loss: 0.7025 - accuracy: 0.5199 - val_loss: 0.6921 - val_accuracy: 0.5466\n",
            "Epoch 2/10\n",
            "52/52 [==============================] - 99s 2s/step - loss: 0.6718 - accuracy: 0.6007 - val_loss: 0.7286 - val_accuracy: 0.5441\n",
            "Epoch 3/10\n",
            "26/52 [==============>...............] - ETA: 42s - loss: 0.6525 - accuracy: 0.6117"
          ]
        }
      ],
      "source": [
        "import tensorflow as tf\n",
        "from tensorflow.keras import layers, models\n",
        "\n",
        "# Define the CNN model\n",
        "def create_cnn_model(input_shape):\n",
        "    model = models.Sequential()\n",
        "    model.add(layers.Conv2D(32, (3, 3), activation='relu', input_shape=input_shape))\n",
        "    model.add(layers.MaxPooling2D((2, 2)))\n",
        "    model.add(layers.Conv2D(64, (3, 3), activation='relu'))\n",
        "    model.add(layers.MaxPooling2D((2, 2)))\n",
        "    model.add(layers.Conv2D(128, (3, 3), activation='relu'))\n",
        "    model.add(layers.MaxPooling2D((2, 2)))\n",
        "    model.add(layers.Flatten())\n",
        "    model.add(layers.Dense(128, activation='relu'))\n",
        "    model.add(layers.Dropout(0.5))\n",
        "    model.add(layers.Dense(1, activation='sigmoid'))\n",
        "\n",
        "    model.compile(optimizer='adam', loss='binary_crossentropy', metrics=['accuracy'])\n",
        "    return model\n",
        "\n",
        "# Create and train the model\n",
        "input_shape = (150, 150, 3)\n",
        "cnn_model = create_cnn_model(input_shape)\n",
        "\n",
        "history_cnn = cnn_model.fit(\n",
        "    train_generator,\n",
        "    epochs=10,\n",
        "    validation_data=validation_generator\n",
        ")\n"
      ]
    },
    {
      "cell_type": "code",
      "execution_count": null,
      "metadata": {
        "id": "g3cbv1WEHZ_H"
      },
      "outputs": [],
      "source": [
        "# Save the CNN model\n",
        "cnn_model.save('/content/drive/My Drive/Real_and_Fake_Faces/cnn_model.h5')"
      ]
    },
    {
      "cell_type": "code",
      "execution_count": null,
      "metadata": {
        "colab": {
          "background_save": true
        },
        "id": "xrPv29sWEVHk"
      },
      "outputs": [],
      "source": [
        "from tensorflow.keras.applications import VGG16\n",
        "\n",
        "# Define the transfer learning model\n",
        "def create_transfer_learning_model(input_shape):\n",
        "    base_model = VGG16(weights='imagenet', include_top=False, input_shape=input_shape)\n",
        "    base_model.trainable = False  # Freeze the base model\n",
        "\n",
        "    model = models.Sequential()\n",
        "    model.add(base_model)\n",
        "    model.add(layers.Flatten())\n",
        "    model.add(layers.Dense(256, activation='relu'))\n",
        "    model.add(layers.Dropout(0.5))\n",
        "    model.add(layers.Dense(1, activation='sigmoid'))\n",
        "\n",
        "    model.compile(optimizer='adam', loss='binary_crossentropy', metrics=['accuracy'])\n",
        "    return model\n",
        "\n",
        "# Create and train the model\n",
        "input_shape = (150, 150, 3)\n",
        "tl_model = create_transfer_learning_model(input_shape)\n",
        "\n",
        "history_tl = tl_model.fit(\n",
        "    train_generator,\n",
        "    epochs=10,\n",
        "    validation_data=validation_generator\n",
        ")\n"
      ]
    },
    {
      "cell_type": "code",
      "execution_count": null,
      "metadata": {
        "id": "beI1AOTwILXG"
      },
      "outputs": [],
      "source": [
        "# Save the Transfer Learning model\n",
        "tl_model.save('/content/drive/My Drive/Real_and_Fake_Faces/tl_model.h5')"
      ]
    },
    {
      "cell_type": "code",
      "execution_count": null,
      "metadata": {
        "id": "HaeFg1v6Ed3c"
      },
      "outputs": [],
      "source": [
        "# Evaluate CNN model\n",
        "cnn_model.evaluate(validation_generator)\n",
        "\n",
        "# Evaluate Transfer Learning model\n",
        "tl_model.evaluate(validation_generator)\n",
        "\n",
        "# Plotting for CNN model\n",
        "plt.figure(figsize=(12, 8))\n",
        "\n",
        "# Plot CNN model accuracy\n",
        "plt.subplot(2, 2, 1)\n",
        "plt.plot(history_cnn.history['accuracy'])\n",
        "plt.plot(history_cnn.history['val_accuracy'])\n",
        "plt.title('CNN Model accuracy')\n",
        "plt.ylabel('Accuracy')\n",
        "plt.xlabel('Epoch')\n",
        "plt.legend(['Train', 'Validation'], loc='upper left')\n",
        "\n",
        "# Plot CNN model loss\n",
        "plt.subplot(2, 2, 2)\n",
        "plt.plot(history_cnn.history['loss'])\n",
        "plt.plot(history_cnn.history['val_loss'])\n",
        "plt.title('CNN Model loss')\n",
        "plt.ylabel('Loss')\n",
        "plt.xlabel('Epoch')\n",
        "plt.legend(['Train', 'Validation'], loc='upper left')\n",
        "\n",
        "# Plotting for Transfer Learning model\n",
        "# Assuming `history_tl` contains the history for Transfer Learning model\n",
        "\n",
        "# Plot Transfer Learning model accuracy\n",
        "plt.subplot(2, 2, 3)\n",
        "plt.plot(history_tl.history['accuracy'])\n",
        "plt.plot(history_tl.history['val_accuracy'])\n",
        "plt.title('Transfer Learning Model accuracy')\n",
        "plt.ylabel('Accuracy')\n",
        "plt.xlabel('Epoch')\n",
        "plt.legend(['Train', 'Validation'], loc='upper left')\n",
        "\n",
        "# Plot Transfer Learning model loss\n",
        "plt.subplot(2, 2, 4)\n",
        "plt.plot(history_tl.history['loss'])\n",
        "plt.plot(history_tl.history['val_loss'])\n",
        "plt.title('Transfer Learning Model loss')\n",
        "plt.ylabel('Loss')\n",
        "plt.xlabel('Epoch')\n",
        "plt.legend(['Train', 'Validation'], loc='upper left')\n",
        "\n",
        "plt.tight_layout()\n",
        "plt.show()\n"
      ]
    },
    {
      "cell_type": "code",
      "execution_count": null,
      "metadata": {
        "id": "GWVREL2tIX0z"
      },
      "outputs": [],
      "source": [
        "# Evaluate CNN model\n",
        "cnn_val_loss, cnn_val_acc = cnn_model.evaluate(validation_generator)\n",
        "print(f\"CNN Model - Validation Loss: {cnn_val_loss}, Validation Accuracy: {cnn_val_acc}\")\n",
        "\n",
        "# Evaluate Transfer Learning model\n",
        "tl_val_loss, tl_val_acc = tl_model.evaluate(validation_generator)\n",
        "print(f\"Transfer Learning Model - Validation Loss: {tl_val_loss}, Validation Accuracy: {tl_val_acc}\")\n"
      ]
    },
    {
      "cell_type": "code",
      "execution_count": null,
      "metadata": {
        "id": "udYTcCDOIbpK"
      },
      "outputs": [],
      "source": [
        "# Function to preprocess image\n",
        "def preprocess_image(image_path):\n",
        "    img = tf.keras.preprocessing.image.load_img(image_path, target_size=(150, 150))\n",
        "    img_array = tf.keras.preprocessing.image.img_to_array(img)\n",
        "    img_array = np.expand_dims(img_array, axis=0)\n",
        "    img_array /= 255.0  # Normalize the image\n",
        "    return img_array\n",
        "\n",
        "# Function to predict using the model\n",
        "def predict_image(model, image_path):\n",
        "    img_array = preprocess_image(image_path)\n",
        "    prediction = model.predict(img_array)\n",
        "\n",
        "    if prediction[0] > 0.5:\n",
        "        return \"Fake\"\n",
        "    else:\n",
        "        return \"Real\"\n"
      ]
    },
    {
      "cell_type": "code",
      "execution_count": null,
      "metadata": {
        "id": "nvvyNfQOIeJM"
      },
      "outputs": [],
      "source": [
        "# Path to the test image\n",
        "test_image_path = '/content/drive/MyDrive/Real and Fake Face Detection Dataset/Fake/mid_80_1111.jpg'\n",
        "\n",
        "# Predict using the CNN model\n",
        "result_cnn = predict_image(cnn_model, test_image_path)\n",
        "print(f\"CNN Model Prediction: {result_cnn}\")\n",
        "\n",
        "# Predict using the Transfer Learning model\n",
        "result_tl = predict_image(tl_model, test_image_path)\n",
        "print(f\"Transfer Learning Model Prediction: {result_tl}\")"
      ]
    }
  ],
  "metadata": {
    "accelerator": "GPU",
    "colab": {
      "gpuType": "T4",
      "provenance": []
    },
    "kernelspec": {
      "display_name": "Python 3",
      "name": "python3"
    },
    "language_info": {
      "name": "python"
    }
  },
  "nbformat": 4,
  "nbformat_minor": 0
}